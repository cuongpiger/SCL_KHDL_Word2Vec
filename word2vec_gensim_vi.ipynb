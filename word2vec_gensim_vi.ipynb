{
 "cells": [
  {
   "cell_type": "markdown",
   "metadata": {},
   "source": [
    "# Xây dựng word2vec model bằng Gensim"
   ]
  },
  {
   "cell_type": "markdown",
   "metadata": {},
   "source": [
    "Now that we have understood how word2vec model works, let us see how to build word2vec model using gensim library. Gensim is one of the popular scientific software packages widely used for building vector space models. It can be easily installed via pip. So, we can just type the following command in our terminal to install the gensim library:\n",
    "\n",
    "pip install -U gensim\n",
    "\n",
    "Now, we will learn how to build word2vec model using gensim. "
   ]
  },
  {
   "cell_type": "code",
   "execution_count": 1,
   "metadata": {},
   "outputs": [],
   "source": [
    "import warnings\n",
    "warnings.filterwarnings('ignore')\n",
    "\n",
    "# data processing\n",
    "import pandas as pd\n",
    "import re\n",
    "from nltk.corpus import stopwords\n",
    "stopWords = stopwords.words('english')\n",
    "\n",
    "# modelling\n",
    "from gensim.models import Word2Vec, KeyedVectors\n",
    "from gensim.models import Phrases\n",
    "from gensim.models.phrases import Phraser"
   ]
  },
  {
   "cell_type": "markdown",
   "metadata": {},
   "source": [
    "## Load model\n",
    "/> Load Vietnamese word2vec model."
   ]
  },
  {
   "cell_type": "code",
   "execution_count": 2,
   "metadata": {},
   "outputs": [],
   "source": [
    "model = KeyedVectors.load_word2vec_format('./model/baomoi.vn.model.bin', binary=True)"
   ]
  },
  {
   "cell_type": "markdown",
   "metadata": {},
   "source": [
    "## Đánh giá word2vec model\n",
    "/> Gensim cung cấp phương thức `most_similar()` sẽ cho ta biết những từ nào tương đồng với một từ được cung cấp. Dưới đây từ `san_deigo` được cung cấp là đầu vào, ta cần tìm các từ mà có sự tương đồng với từ này."
   ]
  },
  {
   "cell_type": "code",
   "execution_count": 3,
   "metadata": {},
   "outputs": [
    {
     "data": {
      "text/plain": [
       "[('khtn', 0.752849817276001),\n",
       " ('khoa_học_cơ_bản', 0.6600980162620544),\n",
       " ('khoa_học_xã_hội', 0.6187462210655212),\n",
       " ('khxh&nv', 0.6083912253379822),\n",
       " ('khxhnv', 0.5912861227989197),\n",
       " ('khxh', 0.5885123610496521),\n",
       " ('toán_học', 0.5577161908149719),\n",
       " ('khoa_học_máy_tính', 0.5532575249671936),\n",
       " ('sư_phạm', 0.5512712001800537),\n",
       " ('y_sinh_học', 0.5470149517059326)]"
      ]
     },
     "execution_count": 3,
     "metadata": {},
     "output_type": "execute_result"
    }
   ],
   "source": [
    "model.most_similar('khoa_học_tự_nhiên')"
   ]
  },
  {
   "cell_type": "markdown",
   "metadata": {},
   "source": [
    "/> Có thể áp dụng các phép toán số học trên vector, ví dụ:\n",
    "  $$toán + khoa\\_học - kinh\\_tế = toán\\_tin$$"
   ]
  },
  {
   "cell_type": "code",
   "execution_count": 4,
   "metadata": {},
   "outputs": [
    {
     "data": {
      "text/plain": [
       "[('toán_tin', 0.4689362347126007),\n",
       " ('anh_văn', 0.4674587845802307),\n",
       " ('tin_học', 0.46048691868782043),\n",
       " ('vật_lý', 0.456289678812027),\n",
       " ('y_sinh_học', 0.4422585964202881),\n",
       " ('môn_sinh_học', 0.4390445649623871),\n",
       " ('khoa_học_tự_nhiên', 0.4379250109195709),\n",
       " ('Đại_số', 0.43606090545654297),\n",
       " ('môn_toán', 0.4359796345233917),\n",
       " ('khoa_học_máy_tính', 0.43592217564582825)]"
      ]
     },
     "execution_count": 4,
     "metadata": {},
     "output_type": "execute_result"
    }
   ],
   "source": [
    "model.most_similar(positive=['toán', 'khoa_học'], negative=['kinh_tế'], topn=10)"
   ]
  },
  {
   "cell_type": "markdown",
   "metadata": {},
   "source": [
    "/> Chúng ta có thể tìm hiểu xem từ nào là không phù hợp với đa số các từ được cung cấp trong list."
   ]
  },
  {
   "cell_type": "code",
   "execution_count": 5,
   "metadata": {},
   "outputs": [
    {
     "data": {
      "text/plain": [
       "'kinh_tế'"
      ]
     },
     "execution_count": 5,
     "metadata": {},
     "output_type": "execute_result"
    }
   ],
   "source": [
    "text = ['máy_tính','khoa_học_máy_tính', 'công_nghệ_phần_mềm', 'kinh_tế', 'đại_số']\n",
    "model.doesnt_match(text)"
   ]
  }
 ],
 "metadata": {
  "interpreter": {
   "hash": "cb8c0d75ba81da144fdbf64f457e481f866e25fd984f3b17a1dee2342c634795"
  },
  "kernelspec": {
   "display_name": "Python 2",
   "language": "python",
   "name": "python3"
  },
  "language_info": {
   "codemirror_mode": {
    "name": "ipython",
    "version": 3
   },
   "file_extension": ".py",
   "mimetype": "text/x-python",
   "name": "python",
   "nbconvert_exporter": "python",
   "pygments_lexer": "ipython3",
   "version": "3.6.13"
  }
 },
 "nbformat": 4,
 "nbformat_minor": 2
}
